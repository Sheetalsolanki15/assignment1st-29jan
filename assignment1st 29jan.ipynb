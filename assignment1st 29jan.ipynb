{
 "cells": [
  {
   "cell_type": "markdown",
   "id": "dc2fa8f5-85eb-4998-bc1e-539f7c5e2cbf",
   "metadata": {},
   "source": [
    "Ques1:  Who Devoloped Python Programing Language?"
   ]
  },
  {
   "cell_type": "markdown",
   "id": "947e82ba-8fae-4b91-b54e-076d4015cb80",
   "metadata": {},
   "source": [
    "Ans:   Guido Van Rossum."
   ]
  },
  {
   "cell_type": "markdown",
   "id": "d5e255f2-f8c3-4961-816a-3614a57cf08c",
   "metadata": {},
   "source": [
    "Ques2:  Which type Of Programming Does Python Support ? "
   ]
  },
  {
   "cell_type": "markdown",
   "id": "a8c4c64a-587c-41a2-877f-ab927ef4bbeb",
   "metadata": {},
   "source": [
    "Ans: Python support Object oriented programming and structure programming ."
   ]
  },
  {
   "cell_type": "markdown",
   "id": "0a9c973d-7d99-4e44-bd3e-9d2f6a5d6a51",
   "metadata": {},
   "source": [
    "Ques3: In python case sensitive when dealing with identifiers?"
   ]
  },
  {
   "cell_type": "markdown",
   "id": "ee0bda1b-fb6b-4373-8425-e646bcde3c29",
   "metadata": {},
   "source": [
    "Ans: Yes, Python is a case-sensitive language, i.e., it treats uppercase and lowercase characters differently. This applies to identifiers too."
   ]
  },
  {
   "cell_type": "markdown",
   "id": "9f130d8c-0fdb-4e34-9a93-d483f889ce2f",
   "metadata": {},
   "source": [
    "Ques4: What is the correct extension of the python file?"
   ]
  },
  {
   "cell_type": "markdown",
   "id": "cfaf7936-ef9a-40ed-88ce-149785260456",
   "metadata": {},
   "source": [
    "Ans: The extensions for Python files are - . py"
   ]
  },
  {
   "cell_type": "markdown",
   "id": "f1d99c97-044e-4e8b-ab70-c5612384bcf0",
   "metadata": {},
   "source": [
    "Ques5: Is python code complied or interpreted?"
   ]
  },
  {
   "cell_type": "markdown",
   "id": "0244a39e-b3d7-4f0e-944b-f7b8b4c3454f",
   "metadata": {},
   "source": [
    "Ans: interpreted"
   ]
  },
  {
   "cell_type": "markdown",
   "id": "deb8a1a0-ea1d-41f3-a552-66f3656c48e9",
   "metadata": {},
   "source": [
    "Ques6: Nmae a few blocks of case used to define in python language?"
   ]
  },
  {
   "cell_type": "markdown",
   "id": "55b22888-137d-4867-9005-8836949f9718",
   "metadata": {},
   "source": [
    "Ans:  a module, a function body, and a class definition."
   ]
  },
  {
   "cell_type": "markdown",
   "id": "90b1eb39-0577-4910-92e4-7820dd7b6b83",
   "metadata": {},
   "source": [
    "Ques7:state a character used to give a single-line comments in python?\n",
    "    "
   ]
  },
  {
   "cell_type": "markdown",
   "id": "ca20eb06-21cd-428c-9674-22f1ef97f7be",
   "metadata": {},
   "source": [
    "Ans: # character "
   ]
  },
  {
   "cell_type": "markdown",
   "id": "730315a6-095e-4b87-9187-f4218fd42f81",
   "metadata": {},
   "source": [
    "Ques8: Mention function which can help us to find the varsion of python that we are currently working on?"
   ]
  },
  {
   "cell_type": "markdown",
   "id": "023f7446-76a1-431d-b4a4-a369e65e75d3",
   "metadata": {},
   "source": [
    "Ans: the function sys. version can help us to find the version of python that we are currently working on."
   ]
  },
  {
   "cell_type": "markdown",
   "id": "7b8be9eb-de58-41fe-8d96-ad345ef95d99",
   "metadata": {},
   "source": [
    "Ques9:python supports the creation of anonymous function at runtime using a construct called?"
   ]
  },
  {
   "cell_type": "markdown",
   "id": "dad11bda-ad21-45a9-b851-6d21a346cb13",
   "metadata": {},
   "source": [
    " Ans: Python supports to make anonymous functions which are not bound to a name(@ runtime). It uses a construct called \"lambda\" ."
   ]
  },
  {
   "cell_type": "markdown",
   "id": "425c53a0-7444-4dc7-a709-d811458bf6ac",
   "metadata": {},
   "source": [
    "Ques10: what does pip stand for python?"
   ]
  },
  {
   "cell_type": "markdown",
   "id": "d9fa7aff-dadc-4190-b8ea-7f72183b01e9",
   "metadata": {},
   "source": [
    "Ans: pip stands for \"preferred installer program\"."
   ]
  },
  {
   "cell_type": "markdown",
   "id": "e13db871-d96a-42ef-9d52-1a4d3369ee48",
   "metadata": {},
   "source": [
    "Ques11: Mention a few built-in function in python?"
   ]
  },
  {
   "cell_type": "markdown",
   "id": "014d6e5e-ea8a-4084-a32a-939325c34067",
   "metadata": {},
   "source": [
    "Ans: bool() , bytearry() ,bytes() ,callable()"
   ]
  },
  {
   "cell_type": "markdown",
   "id": "18ae2768-0974-46ea-a697-ab879c2a592b",
   "metadata": {},
   "source": [
    "Ques12: What is the maximum possible length of an identifier in python"
   ]
  },
  {
   "cell_type": "markdown",
   "id": "0549b939-50a0-453b-b3b9-781a282f8e57",
   "metadata": {},
   "source": [
    "Ans: 79 characters"
   ]
  },
  {
   "cell_type": "markdown",
   "id": "192ff332-4698-4e42-9bd5-7f86b5a49247",
   "metadata": {},
   "source": [
    "Ques13: What are the benefits of using python?"
   ]
  },
  {
   "cell_type": "markdown",
   "id": "d5d86f6f-7929-4352-a782-25c0202b4e01",
   "metadata": {},
   "source": [
    "Python so Popular\n",
    "1) Easy to Learn and Use. \n",
    "2) Mature and Supportive Python Community. \n",
    "3) Support from Renowned Corporate Sponsors. \n",
    "4) Hundreds of Python Libraries and Frameworks. \n",
    "5) Versatility, Efficiency, Reliability, and Speed. \n",
    "6) Big data, Machine Learning and Cloud Computing. \n",
    "7) First-choice Language."
   ]
  },
  {
   "cell_type": "markdown",
   "id": "c4a5f2bc-0e52-4def-8ee5-475e95649f65",
   "metadata": {},
   "source": [
    "Ques14: How is memory managed in python?"
   ]
  },
  {
   "cell_type": "markdown",
   "id": "2ba940cb-de65-41dc-9cc9-89ba0ebdde4d",
   "metadata": {},
   "source": [
    "Ans: Python uses a portion of the memory for internal use and non-object memory. Another part of the memory is used for Python object such as int, dict, list, etc. CPython contains the object allocator that allocates memory within the object area. The object allocator gets a call every time the new object needs space.\n"
   ]
  },
  {
   "cell_type": "markdown",
   "id": "39ec2b57-f9c3-4895-9e87-8887854cf1c1",
   "metadata": {},
   "source": [
    "Ques15: How to install python on windows and set path variable?"
   ]
  },
  {
   "cell_type": "markdown",
   "id": "a6ff47c6-2090-4f52-9a64-1b3b4f5119b9",
   "metadata": {},
   "source": [
    "Ans: Install python from this link https://www.python.org/downloads/\n",
    "After this, install it on your PC. Look for the location where PYTHON has been installed on your PC using tge following command on your command prompt: cmd python.\n",
    "Then go to advanced system settings and add new variable and name it as PYTHON_NAME and paste the copied path.\n",
    "Then look for the path variable, select it's value and select edit\n",
    "Add a semicolon towards the end of the value if it's not present and then type %PYTHON_HOME%"
   ]
  },
  {
   "cell_type": "markdown",
   "id": "b39182bf-ecbb-4ebb-86d2-7bdd729f3020",
   "metadata": {},
   "source": [
    "Ques16: Is indentation required in python?"
   ]
  },
  {
   "cell_type": "code",
   "execution_count": null,
   "id": "78b39a0e-e8f4-4ed3-b902-b2b5bf028ea5",
   "metadata": {},
   "outputs": [],
   "source": []
  }
 ],
 "metadata": {
  "kernelspec": {
   "display_name": "Python 3 (ipykernel)",
   "language": "python",
   "name": "python3"
  },
  "language_info": {
   "codemirror_mode": {
    "name": "ipython",
    "version": 3
   },
   "file_extension": ".py",
   "mimetype": "text/x-python",
   "name": "python",
   "nbconvert_exporter": "python",
   "pygments_lexer": "ipython3",
   "version": "3.10.8"
  }
 },
 "nbformat": 4,
 "nbformat_minor": 5
}
